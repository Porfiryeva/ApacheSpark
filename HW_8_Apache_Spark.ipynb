{
 "cells": [
  {
   "cell_type": "markdown",
   "metadata": {
    "id": "bk41OKOqMDSq"
   },
   "source": [
    "# Кредитный скоринг"
   ]
  },
  {
   "cell_type": "markdown",
   "metadata": {
    "id": "caQ0L_e8gReQ"
   },
   "source": [
    "При принятии решения о выдаче кредита или займа учитывается т.н. «Кредитный скоринг» — рейтинг платежеспособности клиента. ИИ на основе модели, которую просчитывает машинное обучение — в ней много параметров — возраст, зарплата, кредитная история, наличие недвижимости, автомобиля, судимости и других признаков, после обработки которых выносится положительное или отрицательное решение"
   ]
  },
  {
   "cell_type": "code",
   "execution_count": 1,
   "metadata": {
    "id": "aTtub-2LLqGV"
   },
   "outputs": [],
   "source": [
    "# Импортируем библиотеки\n",
    "%matplotlib inline\n",
    "%config InlineBackend.figure_format = 'svg'\n",
    "\n",
    "import warnings\n",
    "warnings.filterwarnings('ignore')\n",
    "import numpy as np\n",
    "import pandas as pd   \n",
    "import matplotlib.pyplot as plt\n",
    "import seaborn as sns\n",
    "import itertools\n",
    "\n",
    "from sklearn.model_selection import train_test_split\n",
    "from sklearn.metrics import accuracy_score\n",
    "from sklearn.linear_model import LogisticRegression\n",
    "from sklearn.preprocessing import OneHotEncoder, MinMaxScaler"
   ]
  },
  {
   "cell_type": "markdown",
   "metadata": {
    "id": "FNp524e-MeHd"
   },
   "source": [
    "# Данные:\n",
    "\n",
    "**application_record.csv**\n",
    "*   Feature name\tExplanation\tRemarks\n",
    "*   ID\tClient number\t\n",
    "*   CODE_GENDER\tGender\t\n",
    "*   FLAG_OWN_CAR\tIs there a car\t\n",
    "*   FLAG_OWN_REALTY\tIs there a property\t\n",
    "*   CNT_CHILDREN\tNumber of children\t\n",
    "*   AMT_INCOME_TOTAL\tAnnual income\t\n",
    "*   NAME_INCOME_TYPE\tIncome category\t\n",
    "*   NAME_EDUCATION_TYPE\tEducation level\t\n",
    "*   NAME_FAMILY_STATUS\tMarital status\t\n",
    "*   NAME_HOUSING_TYPE\tWay of living\t\n",
    "*   DAYS_BIRTH\tBirthday\tCount backwards from current day (0), -1 means yesterday\n",
    "*   DAYS_EMPLOYED\tStart date of employment\tCount backwards from current day(0). If positive, it means the person currently unemployed.\n",
    "FLAG_MOBIL\tIs there a mobile phone\t\n",
    "*   FLAG_WORK_PHONE\tIs there a work phone\t\n",
    "*   FLAG_PHONE\tIs there a phone\t\n",
    "*   FLAG_EMAIL\tIs there an email\t\n",
    "*   OCCUPATION_TYPE\tOccupation\t\n",
    "*   CNT_FAM_MEMBERS\tFamily size\t\n",
    "\n",
    "**credit_record.csv**\n",
    "*   Feature name\tExplanation\tRemarks\n",
    "*   ID\tClient number\t\n",
    "*   MONTHS_BALANCE\tRecord month\tThe month of the extracted data is the starting point, backwards, 0 is the current month, -1 is the previous month, and so on\n",
    "*   STATUS\tStatus\t\n",
    "   *   0: 1-29 days past due\n",
    "   *   1: 30-59 days past due \n",
    "   *   2: 60-89 days overdue \n",
    "   *   3: 90-119 days overdue \n",
    "   *   4: 120-149 days overdue \n",
    "    *   5: Overdue or bad debts, write-offs for more than 150 days\n",
    "    *   C: paid off that month X: No loan for the month\n"
   ]
  },
  {
   "cell_type": "markdown",
   "metadata": {
    "id": "TieqTaosNJ7k"
   },
   "source": [
    "## Считываем данные"
   ]
  },
  {
   "cell_type": "code",
   "execution_count": 2,
   "metadata": {
    "id": "zDyEK4QgMH3f"
   },
   "outputs": [],
   "source": [
    "# Ниже, мы для тех, у кого хоть раз были просрчоки больше 60 дней, ставим в таргет 1.\n",
    "data = pd.read_csv(\"application_record.csv\", encoding = 'utf-8')\n",
    "record = pd.read_csv(\"credit_record.csv\", encoding = 'utf-8')"
   ]
  },
  {
   "cell_type": "code",
   "execution_count": 3,
   "metadata": {},
   "outputs": [],
   "source": [
    "# Добавляем срок кредита к параметрам выдачи кредита\n",
    "# минимальный баланс за месяц\n",
    "begin_month = pd.DataFrame(record.groupby([\"ID\"])[\"MONTHS_BALANCE\"].agg(min) * - 1)\n",
    "begin_month = begin_month.rename(columns={'MONTHS_BALANCE':'begin_month'}) \n",
    "new_data = pd.merge(data, begin_month, how=\"left\",on=\"ID\") "
   ]
  },
  {
   "cell_type": "code",
   "execution_count": 4,
   "metadata": {},
   "outputs": [],
   "source": [
    "# Больше 60, то это просрочка, ставим - Yes, \n",
    "# если просрочка есть за срок кредита,то так же ставим Yes\n",
    "record['dep_value'] = None\n",
    "record['dep_value'][record['STATUS'] == '2'] = 'Yes'\n",
    "record['dep_value'][record['STATUS'] == '3'] = 'Yes'\n",
    "record['dep_value'][record['STATUS'] == '4'] = 'Yes'\n",
    "record['dep_value'][record['STATUS'] == '5'] = 'Yes'\n",
    "cpunt = record.groupby('ID').count()\n",
    "cpunt['dep_value'][cpunt['dep_value'] > 0] = 'Yes' \n",
    "cpunt['dep_value'][cpunt['dep_value'] == 0] = 'No'"
   ]
  },
  {
   "cell_type": "code",
   "execution_count": 5,
   "metadata": {},
   "outputs": [
    {
     "data": {
      "text/html": [
       "<div>\n",
       "<style scoped>\n",
       "    .dataframe tbody tr th:only-of-type {\n",
       "        vertical-align: middle;\n",
       "    }\n",
       "\n",
       "    .dataframe tbody tr th {\n",
       "        vertical-align: top;\n",
       "    }\n",
       "\n",
       "    .dataframe thead th {\n",
       "        text-align: right;\n",
       "    }\n",
       "</style>\n",
       "<table border=\"1\" class=\"dataframe\">\n",
       "  <thead>\n",
       "    <tr style=\"text-align: right;\">\n",
       "      <th></th>\n",
       "      <th>MONTHS_BALANCE</th>\n",
       "      <th>STATUS</th>\n",
       "      <th>dep_value</th>\n",
       "    </tr>\n",
       "    <tr>\n",
       "      <th>ID</th>\n",
       "      <th></th>\n",
       "      <th></th>\n",
       "      <th></th>\n",
       "    </tr>\n",
       "  </thead>\n",
       "  <tbody>\n",
       "    <tr>\n",
       "      <th>5001711</th>\n",
       "      <td>4</td>\n",
       "      <td>4</td>\n",
       "      <td>No</td>\n",
       "    </tr>\n",
       "    <tr>\n",
       "      <th>5001712</th>\n",
       "      <td>19</td>\n",
       "      <td>19</td>\n",
       "      <td>No</td>\n",
       "    </tr>\n",
       "    <tr>\n",
       "      <th>5001713</th>\n",
       "      <td>22</td>\n",
       "      <td>22</td>\n",
       "      <td>No</td>\n",
       "    </tr>\n",
       "    <tr>\n",
       "      <th>5001714</th>\n",
       "      <td>15</td>\n",
       "      <td>15</td>\n",
       "      <td>No</td>\n",
       "    </tr>\n",
       "    <tr>\n",
       "      <th>5001715</th>\n",
       "      <td>60</td>\n",
       "      <td>60</td>\n",
       "      <td>No</td>\n",
       "    </tr>\n",
       "    <tr>\n",
       "      <th>...</th>\n",
       "      <td>...</td>\n",
       "      <td>...</td>\n",
       "      <td>...</td>\n",
       "    </tr>\n",
       "    <tr>\n",
       "      <th>5150482</th>\n",
       "      <td>18</td>\n",
       "      <td>18</td>\n",
       "      <td>No</td>\n",
       "    </tr>\n",
       "    <tr>\n",
       "      <th>5150483</th>\n",
       "      <td>18</td>\n",
       "      <td>18</td>\n",
       "      <td>No</td>\n",
       "    </tr>\n",
       "    <tr>\n",
       "      <th>5150484</th>\n",
       "      <td>13</td>\n",
       "      <td>13</td>\n",
       "      <td>No</td>\n",
       "    </tr>\n",
       "    <tr>\n",
       "      <th>5150485</th>\n",
       "      <td>2</td>\n",
       "      <td>2</td>\n",
       "      <td>No</td>\n",
       "    </tr>\n",
       "    <tr>\n",
       "      <th>5150487</th>\n",
       "      <td>30</td>\n",
       "      <td>30</td>\n",
       "      <td>No</td>\n",
       "    </tr>\n",
       "  </tbody>\n",
       "</table>\n",
       "<p>45985 rows × 3 columns</p>\n",
       "</div>"
      ],
      "text/plain": [
       "         MONTHS_BALANCE  STATUS dep_value\n",
       "ID                                       \n",
       "5001711               4       4        No\n",
       "5001712              19      19        No\n",
       "5001713              22      22        No\n",
       "5001714              15      15        No\n",
       "5001715              60      60        No\n",
       "...                 ...     ...       ...\n",
       "5150482              18      18        No\n",
       "5150483              18      18        No\n",
       "5150484              13      13        No\n",
       "5150485               2       2        No\n",
       "5150487              30      30        No\n",
       "\n",
       "[45985 rows x 3 columns]"
      ]
     },
     "execution_count": 5,
     "metadata": {},
     "output_type": "execute_result"
    }
   ],
   "source": [
    "cpunt"
   ]
  },
  {
   "cell_type": "code",
   "execution_count": 6,
   "metadata": {},
   "outputs": [],
   "source": [
    "# # Джойним всё вместе,заменяем Yes и No на 1 и 0\n",
    "cpunt = cpunt[['dep_value']]\n",
    "new_data = pd.merge(new_data, cpunt, how='inner', on='ID')\n",
    "new_data['target'] = new_data['dep_value']\n",
    "new_data.loc[new_data['target'] == 'Yes','target'] = 1\n",
    "new_data.loc[new_data['target'] == 'No','target'] = 0"
   ]
  },
  {
   "cell_type": "code",
   "execution_count": 7,
   "metadata": {
    "colab": {
     "base_uri": "https://localhost:8080/",
     "height": 322
    },
    "id": "Ke3bNqVtNMt_",
    "outputId": "fd1276f1-fb58-440f-8858-6ab1965fa48a"
   },
   "outputs": [
    {
     "data": {
      "text/html": [
       "<div>\n",
       "<style scoped>\n",
       "    .dataframe tbody tr th:only-of-type {\n",
       "        vertical-align: middle;\n",
       "    }\n",
       "\n",
       "    .dataframe tbody tr th {\n",
       "        vertical-align: top;\n",
       "    }\n",
       "\n",
       "    .dataframe thead th {\n",
       "        text-align: right;\n",
       "    }\n",
       "</style>\n",
       "<table border=\"1\" class=\"dataframe\">\n",
       "  <thead>\n",
       "    <tr style=\"text-align: right;\">\n",
       "      <th></th>\n",
       "      <th>ID</th>\n",
       "      <th>CODE_GENDER</th>\n",
       "      <th>FLAG_OWN_CAR</th>\n",
       "      <th>FLAG_OWN_REALTY</th>\n",
       "      <th>CNT_CHILDREN</th>\n",
       "      <th>AMT_INCOME_TOTAL</th>\n",
       "      <th>NAME_INCOME_TYPE</th>\n",
       "      <th>NAME_EDUCATION_TYPE</th>\n",
       "      <th>NAME_FAMILY_STATUS</th>\n",
       "      <th>NAME_HOUSING_TYPE</th>\n",
       "      <th>...</th>\n",
       "      <th>DAYS_EMPLOYED</th>\n",
       "      <th>FLAG_MOBIL</th>\n",
       "      <th>FLAG_WORK_PHONE</th>\n",
       "      <th>FLAG_PHONE</th>\n",
       "      <th>FLAG_EMAIL</th>\n",
       "      <th>OCCUPATION_TYPE</th>\n",
       "      <th>CNT_FAM_MEMBERS</th>\n",
       "      <th>begin_month</th>\n",
       "      <th>dep_value</th>\n",
       "      <th>target</th>\n",
       "    </tr>\n",
       "  </thead>\n",
       "  <tbody>\n",
       "    <tr>\n",
       "      <th>0</th>\n",
       "      <td>5008804</td>\n",
       "      <td>M</td>\n",
       "      <td>Y</td>\n",
       "      <td>Y</td>\n",
       "      <td>0</td>\n",
       "      <td>427500.0</td>\n",
       "      <td>Working</td>\n",
       "      <td>Higher education</td>\n",
       "      <td>Civil marriage</td>\n",
       "      <td>Rented apartment</td>\n",
       "      <td>...</td>\n",
       "      <td>-4542</td>\n",
       "      <td>1</td>\n",
       "      <td>1</td>\n",
       "      <td>0</td>\n",
       "      <td>0</td>\n",
       "      <td>NaN</td>\n",
       "      <td>2.0</td>\n",
       "      <td>15.0</td>\n",
       "      <td>No</td>\n",
       "      <td>0</td>\n",
       "    </tr>\n",
       "    <tr>\n",
       "      <th>1</th>\n",
       "      <td>5008805</td>\n",
       "      <td>M</td>\n",
       "      <td>Y</td>\n",
       "      <td>Y</td>\n",
       "      <td>0</td>\n",
       "      <td>427500.0</td>\n",
       "      <td>Working</td>\n",
       "      <td>Higher education</td>\n",
       "      <td>Civil marriage</td>\n",
       "      <td>Rented apartment</td>\n",
       "      <td>...</td>\n",
       "      <td>-4542</td>\n",
       "      <td>1</td>\n",
       "      <td>1</td>\n",
       "      <td>0</td>\n",
       "      <td>0</td>\n",
       "      <td>NaN</td>\n",
       "      <td>2.0</td>\n",
       "      <td>14.0</td>\n",
       "      <td>No</td>\n",
       "      <td>0</td>\n",
       "    </tr>\n",
       "    <tr>\n",
       "      <th>2</th>\n",
       "      <td>5008806</td>\n",
       "      <td>M</td>\n",
       "      <td>Y</td>\n",
       "      <td>Y</td>\n",
       "      <td>0</td>\n",
       "      <td>112500.0</td>\n",
       "      <td>Working</td>\n",
       "      <td>Secondary / secondary special</td>\n",
       "      <td>Married</td>\n",
       "      <td>House / apartment</td>\n",
       "      <td>...</td>\n",
       "      <td>-1134</td>\n",
       "      <td>1</td>\n",
       "      <td>0</td>\n",
       "      <td>0</td>\n",
       "      <td>0</td>\n",
       "      <td>Security staff</td>\n",
       "      <td>2.0</td>\n",
       "      <td>29.0</td>\n",
       "      <td>No</td>\n",
       "      <td>0</td>\n",
       "    </tr>\n",
       "    <tr>\n",
       "      <th>3</th>\n",
       "      <td>5008808</td>\n",
       "      <td>F</td>\n",
       "      <td>N</td>\n",
       "      <td>Y</td>\n",
       "      <td>0</td>\n",
       "      <td>270000.0</td>\n",
       "      <td>Commercial associate</td>\n",
       "      <td>Secondary / secondary special</td>\n",
       "      <td>Single / not married</td>\n",
       "      <td>House / apartment</td>\n",
       "      <td>...</td>\n",
       "      <td>-3051</td>\n",
       "      <td>1</td>\n",
       "      <td>0</td>\n",
       "      <td>1</td>\n",
       "      <td>1</td>\n",
       "      <td>Sales staff</td>\n",
       "      <td>1.0</td>\n",
       "      <td>4.0</td>\n",
       "      <td>No</td>\n",
       "      <td>0</td>\n",
       "    </tr>\n",
       "    <tr>\n",
       "      <th>4</th>\n",
       "      <td>5008809</td>\n",
       "      <td>F</td>\n",
       "      <td>N</td>\n",
       "      <td>Y</td>\n",
       "      <td>0</td>\n",
       "      <td>270000.0</td>\n",
       "      <td>Commercial associate</td>\n",
       "      <td>Secondary / secondary special</td>\n",
       "      <td>Single / not married</td>\n",
       "      <td>House / apartment</td>\n",
       "      <td>...</td>\n",
       "      <td>-3051</td>\n",
       "      <td>1</td>\n",
       "      <td>0</td>\n",
       "      <td>1</td>\n",
       "      <td>1</td>\n",
       "      <td>Sales staff</td>\n",
       "      <td>1.0</td>\n",
       "      <td>26.0</td>\n",
       "      <td>No</td>\n",
       "      <td>0</td>\n",
       "    </tr>\n",
       "  </tbody>\n",
       "</table>\n",
       "<p>5 rows × 21 columns</p>\n",
       "</div>"
      ],
      "text/plain": [
       "        ID CODE_GENDER FLAG_OWN_CAR FLAG_OWN_REALTY  CNT_CHILDREN  \\\n",
       "0  5008804           M            Y               Y             0   \n",
       "1  5008805           M            Y               Y             0   \n",
       "2  5008806           M            Y               Y             0   \n",
       "3  5008808           F            N               Y             0   \n",
       "4  5008809           F            N               Y             0   \n",
       "\n",
       "   AMT_INCOME_TOTAL      NAME_INCOME_TYPE            NAME_EDUCATION_TYPE  \\\n",
       "0          427500.0               Working               Higher education   \n",
       "1          427500.0               Working               Higher education   \n",
       "2          112500.0               Working  Secondary / secondary special   \n",
       "3          270000.0  Commercial associate  Secondary / secondary special   \n",
       "4          270000.0  Commercial associate  Secondary / secondary special   \n",
       "\n",
       "     NAME_FAMILY_STATUS  NAME_HOUSING_TYPE  ...  DAYS_EMPLOYED  FLAG_MOBIL  \\\n",
       "0        Civil marriage   Rented apartment  ...          -4542           1   \n",
       "1        Civil marriage   Rented apartment  ...          -4542           1   \n",
       "2               Married  House / apartment  ...          -1134           1   \n",
       "3  Single / not married  House / apartment  ...          -3051           1   \n",
       "4  Single / not married  House / apartment  ...          -3051           1   \n",
       "\n",
       "   FLAG_WORK_PHONE  FLAG_PHONE  FLAG_EMAIL  OCCUPATION_TYPE CNT_FAM_MEMBERS  \\\n",
       "0                1           0           0              NaN             2.0   \n",
       "1                1           0           0              NaN             2.0   \n",
       "2                0           0           0   Security staff             2.0   \n",
       "3                0           1           1      Sales staff             1.0   \n",
       "4                0           1           1      Sales staff             1.0   \n",
       "\n",
       "   begin_month  dep_value target  \n",
       "0         15.0         No      0  \n",
       "1         14.0         No      0  \n",
       "2         29.0         No      0  \n",
       "3          4.0         No      0  \n",
       "4         26.0         No      0  \n",
       "\n",
       "[5 rows x 21 columns]"
      ]
     },
     "execution_count": 7,
     "metadata": {},
     "output_type": "execute_result"
    }
   ],
   "source": [
    "#  В итоге к анкетным данным мы добавили таргет\n",
    "new_data.head()"
   ]
  },
  {
   "cell_type": "code",
   "execution_count": 8,
   "metadata": {
    "id": "aQ-lG6_9Pp8K"
   },
   "outputs": [],
   "source": [
    "# Упростим себе задачу и оставим только часть признаков\n",
    "features = ['AMT_INCOME_TOTAL', 'CODE_GENDER', 'FLAG_OWN_CAR', 'FLAG_OWN_REALTY', 'CNT_CHILDREN']\n",
    "target = ['target',]\n",
    "dataset = new_data[features + target]\n",
    "dataset[target[0]] = pd.to_numeric(dataset[target[0]])"
   ]
  },
  {
   "cell_type": "code",
   "execution_count": 9,
   "metadata": {},
   "outputs": [
    {
     "data": {
      "text/html": [
       "<div>\n",
       "<style scoped>\n",
       "    .dataframe tbody tr th:only-of-type {\n",
       "        vertical-align: middle;\n",
       "    }\n",
       "\n",
       "    .dataframe tbody tr th {\n",
       "        vertical-align: top;\n",
       "    }\n",
       "\n",
       "    .dataframe thead th {\n",
       "        text-align: right;\n",
       "    }\n",
       "</style>\n",
       "<table border=\"1\" class=\"dataframe\">\n",
       "  <thead>\n",
       "    <tr style=\"text-align: right;\">\n",
       "      <th></th>\n",
       "      <th>ID</th>\n",
       "      <th>CODE_GENDER</th>\n",
       "      <th>FLAG_OWN_CAR</th>\n",
       "      <th>FLAG_OWN_REALTY</th>\n",
       "      <th>CNT_CHILDREN</th>\n",
       "      <th>AMT_INCOME_TOTAL</th>\n",
       "      <th>NAME_INCOME_TYPE</th>\n",
       "      <th>NAME_EDUCATION_TYPE</th>\n",
       "      <th>NAME_FAMILY_STATUS</th>\n",
       "      <th>NAME_HOUSING_TYPE</th>\n",
       "      <th>...</th>\n",
       "      <th>DAYS_EMPLOYED</th>\n",
       "      <th>FLAG_MOBIL</th>\n",
       "      <th>FLAG_WORK_PHONE</th>\n",
       "      <th>FLAG_PHONE</th>\n",
       "      <th>FLAG_EMAIL</th>\n",
       "      <th>OCCUPATION_TYPE</th>\n",
       "      <th>CNT_FAM_MEMBERS</th>\n",
       "      <th>begin_month</th>\n",
       "      <th>dep_value</th>\n",
       "      <th>target</th>\n",
       "    </tr>\n",
       "  </thead>\n",
       "  <tbody>\n",
       "    <tr>\n",
       "      <th>0</th>\n",
       "      <td>5008804</td>\n",
       "      <td>M</td>\n",
       "      <td>Y</td>\n",
       "      <td>Y</td>\n",
       "      <td>0</td>\n",
       "      <td>427500.0</td>\n",
       "      <td>Working</td>\n",
       "      <td>Higher education</td>\n",
       "      <td>Civil marriage</td>\n",
       "      <td>Rented apartment</td>\n",
       "      <td>...</td>\n",
       "      <td>-4542</td>\n",
       "      <td>1</td>\n",
       "      <td>1</td>\n",
       "      <td>0</td>\n",
       "      <td>0</td>\n",
       "      <td>NaN</td>\n",
       "      <td>2.0</td>\n",
       "      <td>15.0</td>\n",
       "      <td>No</td>\n",
       "      <td>0</td>\n",
       "    </tr>\n",
       "    <tr>\n",
       "      <th>1</th>\n",
       "      <td>5008805</td>\n",
       "      <td>M</td>\n",
       "      <td>Y</td>\n",
       "      <td>Y</td>\n",
       "      <td>0</td>\n",
       "      <td>427500.0</td>\n",
       "      <td>Working</td>\n",
       "      <td>Higher education</td>\n",
       "      <td>Civil marriage</td>\n",
       "      <td>Rented apartment</td>\n",
       "      <td>...</td>\n",
       "      <td>-4542</td>\n",
       "      <td>1</td>\n",
       "      <td>1</td>\n",
       "      <td>0</td>\n",
       "      <td>0</td>\n",
       "      <td>NaN</td>\n",
       "      <td>2.0</td>\n",
       "      <td>14.0</td>\n",
       "      <td>No</td>\n",
       "      <td>0</td>\n",
       "    </tr>\n",
       "    <tr>\n",
       "      <th>2</th>\n",
       "      <td>5008806</td>\n",
       "      <td>M</td>\n",
       "      <td>Y</td>\n",
       "      <td>Y</td>\n",
       "      <td>0</td>\n",
       "      <td>112500.0</td>\n",
       "      <td>Working</td>\n",
       "      <td>Secondary / secondary special</td>\n",
       "      <td>Married</td>\n",
       "      <td>House / apartment</td>\n",
       "      <td>...</td>\n",
       "      <td>-1134</td>\n",
       "      <td>1</td>\n",
       "      <td>0</td>\n",
       "      <td>0</td>\n",
       "      <td>0</td>\n",
       "      <td>Security staff</td>\n",
       "      <td>2.0</td>\n",
       "      <td>29.0</td>\n",
       "      <td>No</td>\n",
       "      <td>0</td>\n",
       "    </tr>\n",
       "    <tr>\n",
       "      <th>3</th>\n",
       "      <td>5008808</td>\n",
       "      <td>F</td>\n",
       "      <td>N</td>\n",
       "      <td>Y</td>\n",
       "      <td>0</td>\n",
       "      <td>270000.0</td>\n",
       "      <td>Commercial associate</td>\n",
       "      <td>Secondary / secondary special</td>\n",
       "      <td>Single / not married</td>\n",
       "      <td>House / apartment</td>\n",
       "      <td>...</td>\n",
       "      <td>-3051</td>\n",
       "      <td>1</td>\n",
       "      <td>0</td>\n",
       "      <td>1</td>\n",
       "      <td>1</td>\n",
       "      <td>Sales staff</td>\n",
       "      <td>1.0</td>\n",
       "      <td>4.0</td>\n",
       "      <td>No</td>\n",
       "      <td>0</td>\n",
       "    </tr>\n",
       "    <tr>\n",
       "      <th>4</th>\n",
       "      <td>5008809</td>\n",
       "      <td>F</td>\n",
       "      <td>N</td>\n",
       "      <td>Y</td>\n",
       "      <td>0</td>\n",
       "      <td>270000.0</td>\n",
       "      <td>Commercial associate</td>\n",
       "      <td>Secondary / secondary special</td>\n",
       "      <td>Single / not married</td>\n",
       "      <td>House / apartment</td>\n",
       "      <td>...</td>\n",
       "      <td>-3051</td>\n",
       "      <td>1</td>\n",
       "      <td>0</td>\n",
       "      <td>1</td>\n",
       "      <td>1</td>\n",
       "      <td>Sales staff</td>\n",
       "      <td>1.0</td>\n",
       "      <td>26.0</td>\n",
       "      <td>No</td>\n",
       "      <td>0</td>\n",
       "    </tr>\n",
       "    <tr>\n",
       "      <th>...</th>\n",
       "      <td>...</td>\n",
       "      <td>...</td>\n",
       "      <td>...</td>\n",
       "      <td>...</td>\n",
       "      <td>...</td>\n",
       "      <td>...</td>\n",
       "      <td>...</td>\n",
       "      <td>...</td>\n",
       "      <td>...</td>\n",
       "      <td>...</td>\n",
       "      <td>...</td>\n",
       "      <td>...</td>\n",
       "      <td>...</td>\n",
       "      <td>...</td>\n",
       "      <td>...</td>\n",
       "      <td>...</td>\n",
       "      <td>...</td>\n",
       "      <td>...</td>\n",
       "      <td>...</td>\n",
       "      <td>...</td>\n",
       "      <td>...</td>\n",
       "    </tr>\n",
       "    <tr>\n",
       "      <th>36452</th>\n",
       "      <td>5149828</td>\n",
       "      <td>M</td>\n",
       "      <td>Y</td>\n",
       "      <td>Y</td>\n",
       "      <td>0</td>\n",
       "      <td>315000.0</td>\n",
       "      <td>Working</td>\n",
       "      <td>Secondary / secondary special</td>\n",
       "      <td>Married</td>\n",
       "      <td>House / apartment</td>\n",
       "      <td>...</td>\n",
       "      <td>-2420</td>\n",
       "      <td>1</td>\n",
       "      <td>0</td>\n",
       "      <td>0</td>\n",
       "      <td>0</td>\n",
       "      <td>Managers</td>\n",
       "      <td>2.0</td>\n",
       "      <td>11.0</td>\n",
       "      <td>Yes</td>\n",
       "      <td>1</td>\n",
       "    </tr>\n",
       "    <tr>\n",
       "      <th>36453</th>\n",
       "      <td>5149834</td>\n",
       "      <td>F</td>\n",
       "      <td>N</td>\n",
       "      <td>Y</td>\n",
       "      <td>0</td>\n",
       "      <td>157500.0</td>\n",
       "      <td>Commercial associate</td>\n",
       "      <td>Higher education</td>\n",
       "      <td>Married</td>\n",
       "      <td>House / apartment</td>\n",
       "      <td>...</td>\n",
       "      <td>-1325</td>\n",
       "      <td>1</td>\n",
       "      <td>0</td>\n",
       "      <td>1</td>\n",
       "      <td>1</td>\n",
       "      <td>Medicine staff</td>\n",
       "      <td>2.0</td>\n",
       "      <td>23.0</td>\n",
       "      <td>Yes</td>\n",
       "      <td>1</td>\n",
       "    </tr>\n",
       "    <tr>\n",
       "      <th>36454</th>\n",
       "      <td>5149838</td>\n",
       "      <td>F</td>\n",
       "      <td>N</td>\n",
       "      <td>Y</td>\n",
       "      <td>0</td>\n",
       "      <td>157500.0</td>\n",
       "      <td>Pensioner</td>\n",
       "      <td>Higher education</td>\n",
       "      <td>Married</td>\n",
       "      <td>House / apartment</td>\n",
       "      <td>...</td>\n",
       "      <td>-1325</td>\n",
       "      <td>1</td>\n",
       "      <td>0</td>\n",
       "      <td>1</td>\n",
       "      <td>1</td>\n",
       "      <td>Medicine staff</td>\n",
       "      <td>2.0</td>\n",
       "      <td>32.0</td>\n",
       "      <td>Yes</td>\n",
       "      <td>1</td>\n",
       "    </tr>\n",
       "    <tr>\n",
       "      <th>36455</th>\n",
       "      <td>5150049</td>\n",
       "      <td>F</td>\n",
       "      <td>N</td>\n",
       "      <td>Y</td>\n",
       "      <td>0</td>\n",
       "      <td>283500.0</td>\n",
       "      <td>Working</td>\n",
       "      <td>Secondary / secondary special</td>\n",
       "      <td>Married</td>\n",
       "      <td>House / apartment</td>\n",
       "      <td>...</td>\n",
       "      <td>-655</td>\n",
       "      <td>1</td>\n",
       "      <td>0</td>\n",
       "      <td>0</td>\n",
       "      <td>0</td>\n",
       "      <td>Sales staff</td>\n",
       "      <td>2.0</td>\n",
       "      <td>9.0</td>\n",
       "      <td>Yes</td>\n",
       "      <td>1</td>\n",
       "    </tr>\n",
       "    <tr>\n",
       "      <th>36456</th>\n",
       "      <td>5150337</td>\n",
       "      <td>M</td>\n",
       "      <td>N</td>\n",
       "      <td>Y</td>\n",
       "      <td>0</td>\n",
       "      <td>112500.0</td>\n",
       "      <td>Working</td>\n",
       "      <td>Secondary / secondary special</td>\n",
       "      <td>Single / not married</td>\n",
       "      <td>Rented apartment</td>\n",
       "      <td>...</td>\n",
       "      <td>-1193</td>\n",
       "      <td>1</td>\n",
       "      <td>0</td>\n",
       "      <td>0</td>\n",
       "      <td>0</td>\n",
       "      <td>Laborers</td>\n",
       "      <td>1.0</td>\n",
       "      <td>13.0</td>\n",
       "      <td>Yes</td>\n",
       "      <td>1</td>\n",
       "    </tr>\n",
       "  </tbody>\n",
       "</table>\n",
       "<p>36457 rows × 21 columns</p>\n",
       "</div>"
      ],
      "text/plain": [
       "            ID CODE_GENDER FLAG_OWN_CAR FLAG_OWN_REALTY  CNT_CHILDREN  \\\n",
       "0      5008804           M            Y               Y             0   \n",
       "1      5008805           M            Y               Y             0   \n",
       "2      5008806           M            Y               Y             0   \n",
       "3      5008808           F            N               Y             0   \n",
       "4      5008809           F            N               Y             0   \n",
       "...        ...         ...          ...             ...           ...   \n",
       "36452  5149828           M            Y               Y             0   \n",
       "36453  5149834           F            N               Y             0   \n",
       "36454  5149838           F            N               Y             0   \n",
       "36455  5150049           F            N               Y             0   \n",
       "36456  5150337           M            N               Y             0   \n",
       "\n",
       "       AMT_INCOME_TOTAL      NAME_INCOME_TYPE            NAME_EDUCATION_TYPE  \\\n",
       "0              427500.0               Working               Higher education   \n",
       "1              427500.0               Working               Higher education   \n",
       "2              112500.0               Working  Secondary / secondary special   \n",
       "3              270000.0  Commercial associate  Secondary / secondary special   \n",
       "4              270000.0  Commercial associate  Secondary / secondary special   \n",
       "...                 ...                   ...                            ...   \n",
       "36452          315000.0               Working  Secondary / secondary special   \n",
       "36453          157500.0  Commercial associate               Higher education   \n",
       "36454          157500.0             Pensioner               Higher education   \n",
       "36455          283500.0               Working  Secondary / secondary special   \n",
       "36456          112500.0               Working  Secondary / secondary special   \n",
       "\n",
       "         NAME_FAMILY_STATUS  NAME_HOUSING_TYPE  ...  DAYS_EMPLOYED  \\\n",
       "0            Civil marriage   Rented apartment  ...          -4542   \n",
       "1            Civil marriage   Rented apartment  ...          -4542   \n",
       "2                   Married  House / apartment  ...          -1134   \n",
       "3      Single / not married  House / apartment  ...          -3051   \n",
       "4      Single / not married  House / apartment  ...          -3051   \n",
       "...                     ...                ...  ...            ...   \n",
       "36452               Married  House / apartment  ...          -2420   \n",
       "36453               Married  House / apartment  ...          -1325   \n",
       "36454               Married  House / apartment  ...          -1325   \n",
       "36455               Married  House / apartment  ...           -655   \n",
       "36456  Single / not married   Rented apartment  ...          -1193   \n",
       "\n",
       "       FLAG_MOBIL  FLAG_WORK_PHONE  FLAG_PHONE  FLAG_EMAIL  OCCUPATION_TYPE  \\\n",
       "0               1                1           0           0              NaN   \n",
       "1               1                1           0           0              NaN   \n",
       "2               1                0           0           0   Security staff   \n",
       "3               1                0           1           1      Sales staff   \n",
       "4               1                0           1           1      Sales staff   \n",
       "...           ...              ...         ...         ...              ...   \n",
       "36452           1                0           0           0         Managers   \n",
       "36453           1                0           1           1   Medicine staff   \n",
       "36454           1                0           1           1   Medicine staff   \n",
       "36455           1                0           0           0      Sales staff   \n",
       "36456           1                0           0           0         Laborers   \n",
       "\n",
       "      CNT_FAM_MEMBERS  begin_month  dep_value target  \n",
       "0                 2.0         15.0         No      0  \n",
       "1                 2.0         14.0         No      0  \n",
       "2                 2.0         29.0         No      0  \n",
       "3                 1.0          4.0         No      0  \n",
       "4                 1.0         26.0         No      0  \n",
       "...               ...          ...        ...    ...  \n",
       "36452             2.0         11.0        Yes      1  \n",
       "36453             2.0         23.0        Yes      1  \n",
       "36454             2.0         32.0        Yes      1  \n",
       "36455             2.0          9.0        Yes      1  \n",
       "36456             1.0         13.0        Yes      1  \n",
       "\n",
       "[36457 rows x 21 columns]"
      ]
     },
     "execution_count": 9,
     "metadata": {},
     "output_type": "execute_result"
    }
   ],
   "source": [
    "new_data"
   ]
  },
  {
   "cell_type": "code",
   "execution_count": 10,
   "metadata": {
    "id": "9GZqfpoBgvCB"
   },
   "outputs": [],
   "source": [
    "# Разделим выборку на трейн и тест, на трейн будем обучать модель, на тест валидировать.\n",
    "X_train, X_test, y_train, y_test = train_test_split(dataset[features], pd.to_numeric(dataset[target[0]]), test_size=0.3, random_state=42)"
   ]
  },
  {
   "cell_type": "code",
   "execution_count": 11,
   "metadata": {
    "id": "pi61d6Y0gyeC"
   },
   "outputs": [],
   "source": [
    "# Превращаем категориальные факторы в численные\n",
    "ohe = OneHotEncoder()\n",
    "ohe.fit(X_train[['CODE_GENDER', 'FLAG_OWN_CAR', 'FLAG_OWN_REALTY']])\n",
    "X_train_ohe = ohe.transform(X_train[['CODE_GENDER', 'FLAG_OWN_CAR', 'FLAG_OWN_REALTY']])\n",
    "X_test_ohe = ohe.transform(X_test[['CODE_GENDER', 'FLAG_OWN_CAR', 'FLAG_OWN_REALTY']])\n",
    "\n",
    "X_train_ohe = pd.DataFrame(X_train_ohe.toarray(), columns=[item for sublist in ohe.categories_ for item in sublist])\n",
    "X_test_ohe = pd.DataFrame(X_test_ohe.toarray(), columns=[item for sublist in ohe.categories_ for item in sublist])"
   ]
  },
  {
   "cell_type": "code",
   "execution_count": 12,
   "metadata": {
    "id": "3MrTvb4pg1Y3"
   },
   "outputs": [],
   "source": [
    "# Отскалируем численные\n",
    "mms = MinMaxScaler()\n",
    "mms.fit(X_train[['AMT_INCOME_TOTAL', 'CNT_CHILDREN']])\n",
    "X_train_scaled = mms.transform(X_train[['AMT_INCOME_TOTAL', 'CNT_CHILDREN']])\n",
    "X_test_scaled = mms.transform(X_test[['AMT_INCOME_TOTAL', 'CNT_CHILDREN']])\n",
    "\n",
    "X_train_scaled = pd.DataFrame(X_train_scaled, columns=['AMT_INCOME_TOTAL', 'CNT_CHILDREN'])\n",
    "X_test_scaled = pd.DataFrame(X_test_scaled, columns=['AMT_INCOME_TOTAL', 'CNT_CHILDREN'])"
   ]
  },
  {
   "cell_type": "code",
   "execution_count": 13,
   "metadata": {
    "id": "PXeDcmEqg426"
   },
   "outputs": [],
   "source": [
    "X_train = pd.concat([X_train_scaled, X_train_ohe,], axis=1)\n",
    "X_test = pd.concat([X_test_scaled, X_test_ohe, ], axis=1)"
   ]
  },
  {
   "cell_type": "markdown",
   "metadata": {
    "id": "G6AhjBfgg_Fm"
   },
   "source": [
    "#  Модель"
   ]
  },
  {
   "cell_type": "code",
   "execution_count": 14,
   "metadata": {
    "colab": {
     "base_uri": "https://localhost:8080/"
    },
    "id": "dgtb978Kg6oR",
    "outputId": "f8261c9c-0a74-49e7-96de-2d05404a291a"
   },
   "outputs": [
    {
     "data": {
      "text/plain": [
       "LogisticRegression()"
      ]
     },
     "execution_count": 14,
     "metadata": {},
     "output_type": "execute_result"
    }
   ],
   "source": [
    "# Создадим простейшую модель, которая покажет через линейные коэффиценты связь переменных и таргета\n",
    "model = LogisticRegression()\n",
    "model.fit(X_train, y_train)"
   ]
  },
  {
   "cell_type": "code",
   "execution_count": 15,
   "metadata": {
    "colab": {
     "base_uri": "https://localhost:8080/"
    },
    "id": "tr54ps9ahDET",
    "outputId": "67c312b3-4103-4d5b-ed0d-5174376d3b4c",
    "scrolled": true
   },
   "outputs": [
    {
     "name": "stdout",
     "output_type": "stream",
     "text": [
      "Точность модели на трейне 0.9828755045260394, на тесте 0.983635033827025\n"
     ]
    }
   ],
   "source": [
    "train_score, test_score = accuracy_score(model.predict(X_train), y_train), accuracy_score(model.predict(X_test), y_test)\n",
    "print(f'Точность модели на трейне {train_score}, на тесте {test_score}')"
   ]
  },
  {
   "cell_type": "code",
   "execution_count": null,
   "metadata": {},
   "outputs": [],
   "source": []
  },
  {
   "cell_type": "code",
   "execution_count": null,
   "metadata": {},
   "outputs": [],
   "source": []
  },
  {
   "cell_type": "code",
   "execution_count": 16,
   "metadata": {},
   "outputs": [],
   "source": [
    "import pyspark\n",
    "from pyspark.sql import SparkSession\n",
    "from pyspark.sql.types import *\n",
    "import pyspark.sql.functions as F\n",
    "from pyspark import keyword_only\n",
    "\n",
    "from pyspark.ml import Transformer, Estimator, Pipeline\n",
    "from pyspark.ml.param.shared import (HasInputCols, \n",
    "                                     HasInputCol, \n",
    "                                     HasOutputCol, \n",
    "                                     Param, \n",
    "                                     Params, \n",
    "                                     TypeConverters\n",
    "                                    )\n",
    "from pyspark.ml.util import DefaultParamsReadable, DefaultParamsWritable\n",
    "from pyspark.ml.feature import (Tokenizer, \n",
    "                                CountVectorizer, \n",
    "                                IDF, \n",
    "                                VectorAssembler, \n",
    "                                ElementwiseProduct,\n",
    "                                StringIndexer,\n",
    "                                MinMaxScaler\n",
    "                               )\n",
    "from pyspark.ml.linalg import Vectors, VectorUDT, DenseVector, SparseVector\n",
    "from pyspark.ml.evaluation import BinaryClassificationEvaluator, MulticlassClassificationEvaluator\n",
    "from pyspark.ml.classification import LogisticRegression\n",
    "from pyspark.ml.tuning import ParamGridBuilder, TrainValidationSplit"
   ]
  },
  {
   "cell_type": "code",
   "execution_count": 17,
   "metadata": {},
   "outputs": [
    {
     "name": "stdout",
     "output_type": "stream",
     "text": [
      "23/01/30 08:58:23 WARN Utils: Your hostname, ubuntu-d resolves to a loopback address: 127.0.1.1; using 192.168.0.101 instead (on interface enp7s0)\n",
      "23/01/30 08:58:23 WARN Utils: Set SPARK_LOCAL_IP if you need to bind to another address\n"
     ]
    },
    {
     "name": "stderr",
     "output_type": "stream",
     "text": [
      "Setting default log level to \"WARN\".\n",
      "To adjust logging level use sc.setLogLevel(newLevel). For SparkR, use setLogLevel(newLevel).\n"
     ]
    },
    {
     "name": "stdout",
     "output_type": "stream",
     "text": [
      "23/01/30 08:58:24 WARN NativeCodeLoader: Unable to load native-hadoop library for your platform... using builtin-java classes where applicable\n"
     ]
    }
   ],
   "source": [
    "spark = SparkSession.builder \\\n",
    "    .master('local[*]')\\\n",
    "    .config('spark.serializer', 'org.apache.spark.serializer.KryoSerializer') \\\n",
    "    .config('spark.sql.execution.arrow.pyspark.enabled', 'true') \\\n",
    "    .appName(\"Spark\") \\\n",
    "    .getOrCreate()\n",
    "\n",
    "sc = spark.sparkContext"
   ]
  },
  {
   "cell_type": "code",
   "execution_count": 18,
   "metadata": {},
   "outputs": [
    {
     "data": {
      "text/html": [
       "\n",
       "            <div>\n",
       "                <p><b>SparkSession - in-memory</b></p>\n",
       "                \n",
       "        <div>\n",
       "            <p><b>SparkContext</b></p>\n",
       "\n",
       "            <p><a href=\"http://192.168.0.101:4040\">Spark UI</a></p>\n",
       "\n",
       "            <dl>\n",
       "              <dt>Version</dt>\n",
       "                <dd><code>v3.3.1</code></dd>\n",
       "              <dt>Master</dt>\n",
       "                <dd><code>local[*]</code></dd>\n",
       "              <dt>AppName</dt>\n",
       "                <dd><code>Spark</code></dd>\n",
       "            </dl>\n",
       "        </div>\n",
       "        \n",
       "            </div>\n",
       "        "
      ],
      "text/plain": [
       "<pyspark.sql.session.SparkSession at 0x7fa018698d00>"
      ]
     },
     "execution_count": 18,
     "metadata": {},
     "output_type": "execute_result"
    }
   ],
   "source": [
    "spark"
   ]
  },
  {
   "cell_type": "code",
   "execution_count": null,
   "metadata": {},
   "outputs": [],
   "source": []
  },
  {
   "cell_type": "markdown",
   "metadata": {},
   "source": [
    "### - Написать TfIdf на спарке (потом сделать это же со SparkMl)"
   ]
  },
  {
   "cell_type": "code",
   "execution_count": 19,
   "metadata": {},
   "outputs": [
    {
     "name": "stdout",
     "output_type": "stream",
     "text": [
      "<class 'pandas.core.frame.DataFrame'>\n",
      "Int64Index: 36457 entries, 0 to 36456\n",
      "Data columns (total 21 columns):\n",
      " #   Column               Non-Null Count  Dtype  \n",
      "---  ------               --------------  -----  \n",
      " 0   ID                   36457 non-null  int64  \n",
      " 1   CODE_GENDER          36457 non-null  object \n",
      " 2   FLAG_OWN_CAR         36457 non-null  object \n",
      " 3   FLAG_OWN_REALTY      36457 non-null  object \n",
      " 4   CNT_CHILDREN         36457 non-null  int64  \n",
      " 5   AMT_INCOME_TOTAL     36457 non-null  float64\n",
      " 6   NAME_INCOME_TYPE     36457 non-null  object \n",
      " 7   NAME_EDUCATION_TYPE  36457 non-null  object \n",
      " 8   NAME_FAMILY_STATUS   36457 non-null  object \n",
      " 9   NAME_HOUSING_TYPE    36457 non-null  object \n",
      " 10  DAYS_BIRTH           36457 non-null  int64  \n",
      " 11  DAYS_EMPLOYED        36457 non-null  int64  \n",
      " 12  FLAG_MOBIL           36457 non-null  int64  \n",
      " 13  FLAG_WORK_PHONE      36457 non-null  int64  \n",
      " 14  FLAG_PHONE           36457 non-null  int64  \n",
      " 15  FLAG_EMAIL           36457 non-null  int64  \n",
      " 16  OCCUPATION_TYPE      25134 non-null  object \n",
      " 17  CNT_FAM_MEMBERS      36457 non-null  float64\n",
      " 18  begin_month          36457 non-null  float64\n",
      " 19  dep_value            36457 non-null  object \n",
      " 20  target               36457 non-null  object \n",
      "dtypes: float64(3), int64(8), object(10)\n",
      "memory usage: 6.1+ MB\n"
     ]
    }
   ],
   "source": [
    "new_data.info()"
   ]
  },
  {
   "cell_type": "code",
   "execution_count": 20,
   "metadata": {},
   "outputs": [
    {
     "name": "stderr",
     "output_type": "stream",
     "text": [
      "\r",
      "[Stage 0:>                                                          (0 + 1) / 1]\r"
     ]
    },
    {
     "name": "stdout",
     "output_type": "stream",
     "text": [
      "+----------------------------------------------------------------------------------+\n",
      "|text                                                                              |\n",
      "+----------------------------------------------------------------------------------+\n",
      "|Working, Higher education, Civil marriage, Rented apartment                       |\n",
      "|Working, Higher education, Civil marriage, Rented apartment                       |\n",
      "|Working, Secondary / secondary special, Married, House / apartment, Security staff|\n",
      "+----------------------------------------------------------------------------------+\n",
      "only showing top 3 rows\n",
      "\n"
     ]
    },
    {
     "name": "stderr",
     "output_type": "stream",
     "text": [
      "\r",
      "                                                                                \r"
     ]
    }
   ],
   "source": [
    "# чтобы было, на чём строить вектор:\n",
    "text_feat = ['NAME_INCOME_TYPE', 'NAME_EDUCATION_TYPE', 'NAME_FAMILY_STATUS', \n",
    "             'NAME_HOUSING_TYPE', 'OCCUPATION_TYPE']\n",
    "df_text = spark.createDataFrame(new_data).withColumn('text', F.concat_ws(', ', *text_feat))\n",
    "df_text.select('text').show(3, truncate=False);"
   ]
  },
  {
   "cell_type": "code",
   "execution_count": 21,
   "metadata": {},
   "outputs": [],
   "source": [
    "# Tokenizer\n",
    "class MyTokenizer(Transformer, HasInputCol, HasOutputCol, DefaultParamsReadable, DefaultParamsWritable):\n",
    "    \n",
    "    @keyword_only\n",
    "    def __init__(self, inputCol: str, outputCol: str):\n",
    "        super(MyTokenizer, self).__init__()\n",
    "        kwargs = self._input_kwargs\n",
    "        self._set(**kwargs)\n",
    "    \n",
    "    def _transform(self, df: pyspark.sql.DataFrame):\n",
    "        return df.withColumn(self.getOutputCol(), F.split(F.lower(self.getInputCol()), '\\W+'))"
   ]
  },
  {
   "cell_type": "code",
   "execution_count": 22,
   "metadata": {},
   "outputs": [
    {
     "name": "stdout",
     "output_type": "stream",
     "text": [
      "-RECORD 0--------------------------------------------------------------------------------------\n",
      " text   | Working, Higher education, Civil marriage, Rented apartment                          \n",
      " t_text | [working, higher, education, civil, marriage, rented, apartment]                     \n",
      "-RECORD 1--------------------------------------------------------------------------------------\n",
      " text   | Working, Higher education, Civil marriage, Rented apartment                          \n",
      " t_text | [working, higher, education, civil, marriage, rented, apartment]                     \n",
      "-RECORD 2--------------------------------------------------------------------------------------\n",
      " text   | Working, Secondary / secondary special, Married, House / apartment, Security staff   \n",
      " t_text | [working, secondary, secondary, special, married, house, apartment, security, staff] \n",
      "only showing top 3 rows\n",
      "\n"
     ]
    }
   ],
   "source": [
    "myt = MyTokenizer(inputCol='text', outputCol='t_text')\n",
    "data_t_text = myt.transform(df_text)\n",
    "data_t_text.select('text', 't_text').show(3, truncate=False, vertical=True)"
   ]
  },
  {
   "cell_type": "code",
   "execution_count": 23,
   "metadata": {},
   "outputs": [],
   "source": [
    "# дальше - запуталась с передачей параметров + индексы для RDD\n",
    "# class TFTransf(Transformer, HasInputCol, HasOutputCol, DefaultParamsReadable, DefaultParamsWritable):\n",
    "#     dictionary = Param(Params._dummy(), \"dictionary\", \"dictionary\", typeConverter=None)\n",
    "    \n",
    "#     @keyword_only\n",
    "#     def __init__(self, inputCol: str, outputCol: str, dictionary = None):\n",
    "#         super(TFTransf, self).__init__()\n",
    "#         if dictionary is None:\n",
    "#             raise ValueError(\"no dictionary\")\n",
    "#         kwargs = self._input_kwargs\n",
    "#         self._set(**kwargs)\n",
    "    \n",
    "#     def _transform(self, df: pyspark.sql.DataFrame):\n",
    "# #         tmp_col = df.select(self.getInputCol()).rdd.map(lambda x: Vectors.dense(getTF(x, dictionary)), VectorUDT())\n",
    "#         tmp_col = df.select('t_text').rdd.map(lambda x: (x[0], getTF(x[1], self.dictionary)))\n",
    "# #         tmp_df = spark.createDataFrame(tmp_col,\n",
    "# #                                StructType([\n",
    "# #                                    StructField(\"ID\", LongType()),\n",
    "# #                                    StructField(\"TF\", ArrayType(FloatType()))\n",
    "# #                                ]))\n",
    "#         return df.join(tmp_col, on='ID', how='left')"
   ]
  },
  {
   "cell_type": "code",
   "execution_count": 24,
   "metadata": {},
   "outputs": [],
   "source": [
    "# class TFEst(Estimator, HasInputCol, HasOutputCol, DefaultParamsReadable, DefaultParamsWritable):\n",
    "    \n",
    "#     @keyword_only\n",
    "#     def __init__(self, inputCol: str, outputCol: str):\n",
    "#         super(TFEst, self).__init__()\n",
    "#         kwargs = self._input_kwargs\n",
    "#         self._set(**kwargs)\n",
    "        \n",
    "#     def _fit(self, df: pyspark.sql.DataFrame):\n",
    "#         # список уникальных токенов [t1, t2, t3...]\n",
    "#         dictionary = (df.select(self.getInputCol())\n",
    "#                         .rdd\n",
    "#                         .flatMap(lambda row: row[0])\n",
    "#                         .distinct().collect()\n",
    "#                      )   \n",
    "#         return TFTransf(inputCol=self.getInputCol(), outputCol=self.getOutputCol(), dictionary=dictionary)"
   ]
  },
  {
   "cell_type": "code",
   "execution_count": 25,
   "metadata": {},
   "outputs": [],
   "source": [
    "# tfe = TFEst(inputCol='t_text', outputCol='TF')\n",
    "# tfe.fit(data_t_text).transform(data_t_text)"
   ]
  },
  {
   "cell_type": "code",
   "execution_count": 26,
   "metadata": {},
   "outputs": [
    {
     "name": "stderr",
     "output_type": "stream",
     "text": [
      "                                                                                \r"
     ]
    },
    {
     "data": {
      "text/plain": [
       "['rented', 'staff', 'separated']"
      ]
     },
     "execution_count": 26,
     "metadata": {},
     "output_type": "execute_result"
    }
   ],
   "source": [
    "# поэтому просто без обёртки\n",
    "# словарь для подсчёта частот - fit\n",
    "data_rdd = data_t_text.select('t_text').rdd\n",
    "my_dict = data_rdd.flatMap(lambda row: row[0]).distinct().collect()\n",
    "my_dict[:3]"
   ]
  },
  {
   "cell_type": "code",
   "execution_count": 27,
   "metadata": {},
   "outputs": [],
   "source": [
    "# + столбец для TF - трансформация + нужен индекс\n",
    "# DenseVector - тк нагляднее\n",
    "def getTF(row, dictionary):\n",
    "    row = row\n",
    "    tmp_vect = [0 for i in range(len(dictionary))]\n",
    "    for t in row:\n",
    "        for i in range(len(dictionary)):\n",
    "            if dictionary[i] == t:\n",
    "                tmp_vect[i] += 1\n",
    "                continue\n",
    "#     tmp_vect = Vectors.dense([x / len(row) for x in tmp_vect])\n",
    "    tmp_vect = [x / len(row) for x in tmp_vect]\n",
    "    return tmp_vect"
   ]
  },
  {
   "cell_type": "code",
   "execution_count": 28,
   "metadata": {
    "scrolled": true
   },
   "outputs": [
    {
     "data": {
      "text/plain": [
       "[(5008804,\n",
       "  [0.14285714285714285,\n",
       "   0.0,\n",
       "   0.0,\n",
       "   0.0,\n",
       "   0.0,\n",
       "   0.0,\n",
       "   0.0,\n",
       "   0.0,\n",
       "   0.0,\n",
       "   0.0,\n",
       "   0.0,\n",
       "   0.0,\n",
       "   0.14285714285714285,\n",
       "   0.0,\n",
       "   0.0,\n",
       "   0.0,\n",
       "   0.0,\n",
       "   0.0,\n",
       "   0.0,\n",
       "   0.0,\n",
       "   0.0,\n",
       "   0.0,\n",
       "   0.0,\n",
       "   0.0,\n",
       "   0.0,\n",
       "   0.0,\n",
       "   0.0,\n",
       "   0.0,\n",
       "   0.14285714285714285,\n",
       "   0.0,\n",
       "   0.0,\n",
       "   0.0,\n",
       "   0.0,\n",
       "   0.0,\n",
       "   0.0,\n",
       "   0.0,\n",
       "   0.0,\n",
       "   0.0,\n",
       "   0.0,\n",
       "   0.0,\n",
       "   0.0,\n",
       "   0.14285714285714285,\n",
       "   0.0,\n",
       "   0.0,\n",
       "   0.0,\n",
       "   0.14285714285714285,\n",
       "   0.0,\n",
       "   0.0,\n",
       "   0.14285714285714285,\n",
       "   0.14285714285714285,\n",
       "   0.0,\n",
       "   0.0,\n",
       "   0.0,\n",
       "   0.0,\n",
       "   0.0])]"
      ]
     },
     "execution_count": 28,
     "metadata": {},
     "output_type": "execute_result"
    }
   ],
   "source": [
    "# + ID для Join\n",
    "tmp_col = data_t_text.select('ID', 't_text').rdd.map(lambda x: (x[0], getTF(x[1], my_dict)))\n",
    "tmp_col.take(1)"
   ]
  },
  {
   "cell_type": "code",
   "execution_count": 29,
   "metadata": {},
   "outputs": [
    {
     "name": "stdout",
     "output_type": "stream",
     "text": [
      "+-------+--------------------------------------------------+\n",
      "|     ID|                                                TF|\n",
      "+-------+--------------------------------------------------+\n",
      "|5008804|[0.14285714285714285, 0.0, 0.0, 0.0, 0.0, 0.0, ...|\n",
      "+-------+--------------------------------------------------+\n",
      "only showing top 1 row\n",
      "\n"
     ]
    }
   ],
   "source": [
    "# rdd to df\n",
    "tmp_df = spark.createDataFrame(tmp_col,\n",
    "                               StructType([\n",
    "                                   StructField(\"ID\", LongType()),\n",
    "#                                    StructField(\"TF\", VectorUDT())\n",
    "                                   StructField(\"TF\", ArrayType(DoubleType()))\n",
    "                               ]))\n",
    "tmp_df.show(1, truncate=50)                          "
   ]
  },
  {
   "cell_type": "code",
   "execution_count": 30,
   "metadata": {},
   "outputs": [
    {
     "name": "stderr",
     "output_type": "stream",
     "text": [
      "[Stage 7:==============>                                           (3 + 9) / 12]\r"
     ]
    },
    {
     "name": "stdout",
     "output_type": "stream",
     "text": [
      "+-------+----------------------------------------+----------------------------------------+\n",
      "|     ID|                                  t_text|                                      TF|\n",
      "+-------+----------------------------------------+----------------------------------------+\n",
      "|5008804|[working, higher, education, civil, m...|[0.14285714285714285, 0.0, 0.0, 0.0, ...|\n",
      "|5008805|[working, higher, education, civil, m...|[0.14285714285714285, 0.0, 0.0, 0.0, ...|\n",
      "|5022611|[working, secondary, secondary, speci...|[0.0, 0.0, 0.0, 0.0, 0.0, 0.125, 0.0,...|\n",
      "+-------+----------------------------------------+----------------------------------------+\n",
      "only showing top 3 rows\n",
      "\n"
     ]
    },
    {
     "name": "stderr",
     "output_type": "stream",
     "text": [
      "\r",
      "                                                                                \r"
     ]
    }
   ],
   "source": [
    "# собственно transform: data + TF\n",
    "(data_t_text.join(tmp_df, on='ID', how='left')\n",
    "            .select('ID', 't_text', 'TF')\n",
    "            .show(3, truncate=40)\n",
    ")"
   ]
  },
  {
   "cell_type": "code",
   "execution_count": 31,
   "metadata": {},
   "outputs": [],
   "source": [
    "data_tf = data_t_text.join(tmp_df, on='ID', how='left')"
   ]
  },
  {
   "cell_type": "code",
   "execution_count": 32,
   "metadata": {},
   "outputs": [
    {
     "name": "stdout",
     "output_type": "stream",
     "text": [
      "root\n",
      " |-- ID: long (nullable = true)\n",
      " |-- CODE_GENDER: string (nullable = true)\n",
      " |-- FLAG_OWN_CAR: string (nullable = true)\n",
      " |-- FLAG_OWN_REALTY: string (nullable = true)\n",
      " |-- CNT_CHILDREN: long (nullable = true)\n",
      " |-- AMT_INCOME_TOTAL: double (nullable = true)\n",
      " |-- NAME_INCOME_TYPE: string (nullable = true)\n",
      " |-- NAME_EDUCATION_TYPE: string (nullable = true)\n",
      " |-- NAME_FAMILY_STATUS: string (nullable = true)\n",
      " |-- NAME_HOUSING_TYPE: string (nullable = true)\n",
      " |-- DAYS_BIRTH: long (nullable = true)\n",
      " |-- DAYS_EMPLOYED: long (nullable = true)\n",
      " |-- FLAG_MOBIL: long (nullable = true)\n",
      " |-- FLAG_WORK_PHONE: long (nullable = true)\n",
      " |-- FLAG_PHONE: long (nullable = true)\n",
      " |-- FLAG_EMAIL: long (nullable = true)\n",
      " |-- OCCUPATION_TYPE: string (nullable = true)\n",
      " |-- CNT_FAM_MEMBERS: double (nullable = true)\n",
      " |-- begin_month: double (nullable = true)\n",
      " |-- dep_value: string (nullable = true)\n",
      " |-- target: long (nullable = true)\n",
      " |-- text: string (nullable = false)\n",
      " |-- t_text: array (nullable = false)\n",
      " |    |-- element: string (containsNull = false)\n",
      " |-- TF: array (nullable = true)\n",
      " |    |-- element: double (containsNull = true)\n",
      "\n"
     ]
    }
   ],
   "source": [
    "data_tf.printSchema()"
   ]
  },
  {
   "cell_type": "code",
   "execution_count": 33,
   "metadata": {},
   "outputs": [
    {
     "name": "stderr",
     "output_type": "stream",
     "text": [
      "                                                                                \r"
     ]
    },
    {
     "data": {
      "text/plain": [
       "(55, 36457)"
      ]
     },
     "execution_count": 33,
     "metadata": {},
     "output_type": "execute_result"
    }
   ],
   "source": [
    "dict_size = len(my_dict)\n",
    "collect_size = data_tf.count()\n",
    "dict_size, collect_size"
   ]
  },
  {
   "cell_type": "code",
   "execution_count": 34,
   "metadata": {},
   "outputs": [
    {
     "name": "stderr",
     "output_type": "stream",
     "text": [
      "                                                                                \r"
     ]
    },
    {
     "data": {
      "text/plain": [
       "[575, 12127, 2103, 174, 174]"
      ]
     },
     "execution_count": 34,
     "metadata": {},
     "output_type": "execute_result"
    }
   ],
   "source": [
    "# сложение векторов\n",
    "idf_counter = data_tf.select('TF').rdd.map(lambda vec: [1 if x > 0 else 0 for x in vec[0]]).reduce(lambda x, y: [x[i] + y[i] for i in range(len(x))])\n",
    "idf_counter[:5]"
   ]
  },
  {
   "cell_type": "code",
   "execution_count": 35,
   "metadata": {},
   "outputs": [
    {
     "data": {
      "text/plain": [
       "[4.149518722097133,\n",
       " 1.1006991122376917,\n",
       " 2.8527685871917834,\n",
       " 5.344833463679954,\n",
       " 5.344833463679954]"
      ]
     },
     "execution_count": 35,
     "metadata": {},
     "output_type": "execute_result"
    }
   ],
   "source": [
    "idf_coeff = [np.log(collect_size/idf_counter[i]) for i in range(dict_size)]\n",
    "idf_coeff[:5]"
   ]
  },
  {
   "cell_type": "code",
   "execution_count": 36,
   "metadata": {},
   "outputs": [],
   "source": [
    "# idf_coeff = sc.broadcast(str(idf_coeff))"
   ]
  },
  {
   "cell_type": "code",
   "execution_count": 37,
   "metadata": {},
   "outputs": [],
   "source": [
    "# далее - (для разнообразия не rdd) умножить, чтобы получить вектор и это всё ужасно криво, да\n",
    "@F.pandas_udf(ArrayType(DoubleType()))\n",
    "def getIDF(col, idf):\n",
    "    import numpy as np \n",
    "    idf = eval(idf.values[0])\n",
    "    return col.apply(lambda x: np.multiply(x, idf))"
   ]
  },
  {
   "cell_type": "code",
   "execution_count": 38,
   "metadata": {},
   "outputs": [
    {
     "name": "stderr",
     "output_type": "stream",
     "text": [
      "[Stage 29:>                                                         (0 + 1) / 1]\r"
     ]
    },
    {
     "name": "stdout",
     "output_type": "stream",
     "text": [
      "+---------------------------------------------------------------------------+\n",
      "|                                                                      TFIDF|\n",
      "+---------------------------------------------------------------------------+\n",
      "|[0.5927883888710189, 0.0, 0.0, 0.0, 0.0, 0.0, 0.0, 0.0, 0.0, 0.0, 0.0, 0...|\n",
      "|[0.5927883888710189, 0.0, 0.0, 0.0, 0.0, 0.0, 0.0, 0.0, 0.0, 0.0, 0.0, 0...|\n",
      "|[0.0, 0.09172492601980764, 0.0, 0.0, 0.0, 0.0, 0.0, 0.0, 0.0, 0.0, 0.0, ...|\n",
      "|[0.0, 0.0, 0.47546143119863055, 0.0, 0.0, 0.0, 0.0, 0.0, 0.0, 0.0, 0.0, ...|\n",
      "|[0.0, 0.0, 0.47546143119863055, 0.0, 0.0, 0.0, 0.0, 0.0, 0.0, 0.0, 0.0, ...|\n",
      "|[0.0, 0.0, 0.0, 0.0, 0.0, 0.19355837662441736, 0.0, 0.0, 0.0, 0.0, 0.0, ...|\n",
      "|[0.0, 0.0, 0.0, 0.0, 0.0, 0.19355837662441736, 0.0, 0.0, 0.0, 0.0, 0.0, ...|\n",
      "|[0.0, 0.0, 0.0, 0.0, 0.0, 0.19355837662441736, 0.0, 0.0, 0.0, 0.0, 0.0, ...|\n",
      "|[0.0, 0.0, 0.0, 0.0, 0.0, 0.0, 0.0, 0.0, 0.0, 0.0, 0.0, 0.0, 0.094466640...|\n",
      "|[0.0, 0.0, 0.0, 0.0, 0.0, 0.0, 0.0, 0.0, 0.0, 0.0, 0.0, 0.0, 0.094466640...|\n",
      "|[0.0, 0.0, 0.0, 0.0, 0.0, 0.21775317370246952, 0.0, 0.0, 0.0, 0.0, 0.0, ...|\n",
      "|[0.0, 0.0, 0.0, 0.0, 0.0, 0.21775317370246952, 0.0, 0.0, 0.0, 0.0, 0.0, ...|\n",
      "|[0.0, 0.0, 0.0, 0.0, 0.0, 0.17420253896197563, 0.0, 0.0, 0.0, 0.0, 0.0, ...|\n",
      "|[0.0, 0.0, 0.0, 0.0, 0.0, 0.17420253896197563, 0.0, 0.0, 0.0, 0.0, 0.0, ...|\n",
      "|[0.0, 0.0, 0.0, 0.0, 0.0, 0.17420253896197563, 0.0, 0.0, 0.0, 0.0, 0.0, ...|\n",
      "|[0.0, 0.12229990135974352, 0.0, 0.0, 0.0, 0.0, 0.0, 0.0, 0.3357522043713...|\n",
      "|[0.0, 0.12229990135974352, 0.0, 0.0, 0.0, 0.0, 0.0, 0.0, 0.3357522043713...|\n",
      "|[0.0, 0.12229990135974352, 0.0, 0.0, 0.0, 0.0, 0.0, 0.0, 0.3357522043713...|\n",
      "|[0.0, 0.0, 0.0, 0.0, 0.0, 0.0, 0.0, 0.0, 0.0, 0.0, 0.0, 0.0, 0.073474054...|\n",
      "|[0.0, 0.0, 0.0, 0.0, 0.0, 0.0, 0.0, 0.0, 0.0, 0.0, 0.0, 0.0, 0.073474054...|\n",
      "+---------------------------------------------------------------------------+\n",
      "only showing top 20 rows\n",
      "\n"
     ]
    },
    {
     "name": "stderr",
     "output_type": "stream",
     "text": [
      "\r",
      "                                                                                \r"
     ]
    }
   ],
   "source": [
    "data_tf.select(getIDF(F.col('TF'), F.lit(str(idf_coeff))).alias('TFIDF')).show(truncate=75)"
   ]
  },
  {
   "cell_type": "markdown",
   "metadata": {},
   "source": [
    "**TF-IDF со SparkML**"
   ]
  },
  {
   "cell_type": "code",
   "execution_count": 39,
   "metadata": {},
   "outputs": [],
   "source": [
    "tokenizer = Tokenizer(inputCol='text', outputCol='tokens')\n",
    "cv = CountVectorizer(inputCol=tokenizer.getOutputCol(), outputCol='vectors')\n",
    "idf = IDF(inputCol=cv.getOutputCol(), outputCol='IDF')"
   ]
  },
  {
   "cell_type": "code",
   "execution_count": 40,
   "metadata": {},
   "outputs": [],
   "source": [
    "pipe = Pipeline(stages=[\n",
    "    tokenizer,\n",
    "    cv,\n",
    "    idf\n",
    "])"
   ]
  },
  {
   "cell_type": "code",
   "execution_count": 41,
   "metadata": {},
   "outputs": [
    {
     "name": "stderr",
     "output_type": "stream",
     "text": [
      "                                                                                \r"
     ]
    },
    {
     "name": "stdout",
     "output_type": "stream",
     "text": [
      "+--------------------------------------------------+--------------------------------------------------+\n",
      "|                                           vectors|                                               IDF|\n",
      "+--------------------------------------------------+--------------------------------------------------+\n",
      "|(58,[6,8,9,10,22,23,39],[1.0,1.0,1.0,1.0,1.0,1....|(58,[6,8,9,10,22,23,39],[0.6612407789534962,1.2...|\n",
      "|(58,[6,8,9,10,22,23,39],[1.0,1.0,1.0,1.0,1.0,1....|(58,[6,8,9,10,22,23,39],[0.6612407789534962,1.2...|\n",
      "|(58,[0,1,2,3,4,5,6,7,38],[2.0,2.0,1.0,1.0,1.0,1...|(58,[0,1,2,3,4,5,6,7,38],[0.06353632823959426,0...|\n",
      "|(58,[0,1,2,3,4,5,7,11,12,15,16,18],[3.0,2.0,1.0...|(58,[0,1,2,3,4,5,7,11,12,15,16,18],[0.095304492...|\n",
      "|(58,[0,1,2,3,4,5,7,11,12,15,16,18],[3.0,2.0,1.0...|(58,[0,1,2,3,4,5,7,11,12,15,16,18],[0.095304492...|\n",
      "|(58,[0,1,2,3,4,5,7,11,12,15,16,18],[3.0,2.0,1.0...|(58,[0,1,2,3,4,5,7,11,12,15,16,18],[0.095304492...|\n",
      "|(58,[0,1,2,3,4,5,7,11,12,15,16,18],[3.0,2.0,1.0...|(58,[0,1,2,3,4,5,7,11,12,15,16,18],[0.095304492...|\n",
      "|(58,[0,2,8,9,10,14,25],[1.0,1.0,1.0,1.0,1.0,1.0...|(58,[0,2,8,9,10,14,25],[0.03176816411979713,0.1...|\n",
      "|(58,[0,2,8,9,10,14,25],[1.0,1.0,1.0,1.0,1.0,1.0...|(58,[0,2,8,9,10,14,25],[0.03176816411979713,0.1...|\n",
      "|(58,[0,2,8,9,10,14,25],[1.0,1.0,1.0,1.0,1.0,1.0...|(58,[0,2,8,9,10,14,25],[0.03176816411979713,0.1...|\n",
      "|(58,[0,2,3,5,6,9,10,34],[1.0,1.0,1.0,1.0,1.0,1....|(58,[0,2,3,5,6,9,10,34],[0.03176816411979713,0....|\n",
      "|(58,[0,2,3,5,6,9,10,34],[1.0,1.0,1.0,1.0,1.0,1....|(58,[0,2,3,5,6,9,10,34],[0.03176816411979713,0....|\n",
      "|(58,[0,1,2,3,4,5,11,12,13],[2.0,2.0,1.0,1.0,1.0...|(58,[0,1,2,3,4,5,11,12,13],[0.06353632823959426...|\n",
      "|(58,[0,1,2,3,4,5,11,12,13],[2.0,2.0,1.0,1.0,1.0...|(58,[0,1,2,3,4,5,11,12,13],[0.06353632823959426...|\n",
      "|(58,[0,1,2,3,4,5,11,12,13],[2.0,2.0,1.0,1.0,1.0...|(58,[0,1,2,3,4,5,11,12,13],[0.06353632823959426...|\n",
      "|(58,[0,1,2,3,4,5,11,12,13],[2.0,2.0,1.0,1.0,1.0...|(58,[0,1,2,3,4,5,11,12,13],[0.06353632823959426...|\n",
      "|(58,[0,1,2,3,4,5,11,12,13],[2.0,2.0,1.0,1.0,1.0...|(58,[0,1,2,3,4,5,11,12,13],[0.06353632823959426...|\n",
      "|(58,[0,1,2,3,4,5,11,12,13],[2.0,2.0,1.0,1.0,1.0...|(58,[0,1,2,3,4,5,11,12,13],[0.06353632823959426...|\n",
      "|(58,[0,2,3,5,6,29,30,34],[1.0,1.0,1.0,1.0,1.0,1...|(58,[0,2,3,5,6,29,30,34],[0.03176816411979713,0...|\n",
      "|(58,[0,2,3,5,6,29,30,34],[1.0,1.0,1.0,1.0,1.0,1...|(58,[0,2,3,5,6,29,30,34],[0.03176816411979713,0...|\n",
      "+--------------------------------------------------+--------------------------------------------------+\n",
      "only showing top 20 rows\n",
      "\n"
     ]
    }
   ],
   "source": [
    "pipe.fit(df_text).transform(df_text).select('vectors', 'IDF').show(truncate=50)"
   ]
  },
  {
   "cell_type": "markdown",
   "metadata": {},
   "source": [
    "### - Обучить свою линейную регрессию\n",
    "\n",
    "- тк задача на классификацию, линейную регрессию поняла как логистическую регрессию\n",
    "\n",
    "- считывание данных и добавление таргета"
   ]
  },
  {
   "cell_type": "code",
   "execution_count": 42,
   "metadata": {},
   "outputs": [
    {
     "name": "stderr",
     "output_type": "stream",
     "text": [
      "                                                                                \r"
     ]
    }
   ],
   "source": [
    "data = spark.read.csv('application_record.csv', inferSchema = True, header = True, encoding = 'utf-8')\n",
    "record = spark.read.csv('credit_record.csv', inferSchema = True, header = True, encoding = 'utf-8')"
   ]
  },
  {
   "cell_type": "code",
   "execution_count": 43,
   "metadata": {},
   "outputs": [
    {
     "data": {
      "text/plain": [
       "(['ID',\n",
       "  'CODE_GENDER',\n",
       "  'FLAG_OWN_CAR',\n",
       "  'FLAG_OWN_REALTY',\n",
       "  'CNT_CHILDREN',\n",
       "  'AMT_INCOME_TOTAL',\n",
       "  'NAME_INCOME_TYPE',\n",
       "  'NAME_EDUCATION_TYPE',\n",
       "  'NAME_FAMILY_STATUS',\n",
       "  'NAME_HOUSING_TYPE',\n",
       "  'DAYS_BIRTH',\n",
       "  'DAYS_EMPLOYED',\n",
       "  'FLAG_MOBIL',\n",
       "  'FLAG_WORK_PHONE',\n",
       "  'FLAG_PHONE',\n",
       "  'FLAG_EMAIL',\n",
       "  'OCCUPATION_TYPE',\n",
       "  'CNT_FAM_MEMBERS'],\n",
       " ['ID', 'MONTHS_BALANCE', 'STATUS'])"
      ]
     },
     "execution_count": 43,
     "metadata": {},
     "output_type": "execute_result"
    }
   ],
   "source": [
    "data.columns, record.columns"
   ]
  },
  {
   "cell_type": "code",
   "execution_count": 44,
   "metadata": {},
   "outputs": [
    {
     "name": "stderr",
     "output_type": "stream",
     "text": [
      "\r",
      "[Stage 41:>                                                         (0 + 4) / 4]\r"
     ]
    },
    {
     "name": "stdout",
     "output_type": "stream",
     "text": [
      "+-------+-----------+\n",
      "|     ID|begin_month|\n",
      "+-------+-----------+\n",
      "|5001812|         22|\n",
      "|5001849|          8|\n",
      "|5001921|         19|\n",
      "+-------+-----------+\n",
      "only showing top 3 rows\n",
      "\n"
     ]
    },
    {
     "name": "stderr",
     "output_type": "stream",
     "text": [
      "\r",
      "                                                                                \r"
     ]
    }
   ],
   "source": [
    "# минимальный баланс за месяц\n",
    "begin_month = record.groupBy('ID').min('MONTHS_BALANCE').select('ID', F.col('min(MONTHS_BALANCE)') * -1).withColumnRenamed('(min(MONTHS_BALANCE) * -1)', 'begin_month')\n",
    "begin_month.show(3)"
   ]
  },
  {
   "cell_type": "code",
   "execution_count": 45,
   "metadata": {},
   "outputs": [
    {
     "data": {
      "text/plain": [
       "['ID',\n",
       " 'CODE_GENDER',\n",
       " 'FLAG_OWN_CAR',\n",
       " 'FLAG_OWN_REALTY',\n",
       " 'CNT_CHILDREN',\n",
       " 'AMT_INCOME_TOTAL',\n",
       " 'NAME_INCOME_TYPE',\n",
       " 'NAME_EDUCATION_TYPE',\n",
       " 'NAME_FAMILY_STATUS',\n",
       " 'NAME_HOUSING_TYPE',\n",
       " 'DAYS_BIRTH',\n",
       " 'DAYS_EMPLOYED',\n",
       " 'FLAG_MOBIL',\n",
       " 'FLAG_WORK_PHONE',\n",
       " 'FLAG_PHONE',\n",
       " 'FLAG_EMAIL',\n",
       " 'OCCUPATION_TYPE',\n",
       " 'CNT_FAM_MEMBERS',\n",
       " 'begin_month']"
      ]
     },
     "execution_count": 45,
     "metadata": {},
     "output_type": "execute_result"
    }
   ],
   "source": [
    "new_data = data.join(begin_month, on='ID', how='left')\n",
    "new_data.columns"
   ]
  },
  {
   "cell_type": "code",
   "execution_count": 46,
   "metadata": {},
   "outputs": [
    {
     "name": "stdout",
     "output_type": "stream",
     "text": [
      "+------+\n",
      "|STATUS|\n",
      "+------+\n",
      "|     3|\n",
      "|     0|\n",
      "|     5|\n",
      "|     C|\n",
      "|     X|\n",
      "|     1|\n",
      "|     4|\n",
      "|     2|\n",
      "+------+\n",
      "\n"
     ]
    }
   ],
   "source": [
    "record.select('STATUS').distinct().show()"
   ]
  },
  {
   "cell_type": "code",
   "execution_count": 47,
   "metadata": {},
   "outputs": [
    {
     "name": "stdout",
     "output_type": "stream",
     "text": [
      "+-------+--------------+------+------+\n",
      "|     ID|MONTHS_BALANCE|STATUS|target|\n",
      "+-------+--------------+------+------+\n",
      "|5001711|             0|     X|     0|\n",
      "|5001711|            -1|     0|     0|\n",
      "|5001711|            -2|     0|     0|\n",
      "+-------+--------------+------+------+\n",
      "only showing top 3 rows\n",
      "\n"
     ]
    }
   ],
   "source": [
    "# таргет\n",
    "condition = F.when((F.col('STATUS') == '2') | (F.col('STATUS') == '3') | (F.col('STATUS') == '4') | (F.col('STATUS') == '5'), 1).otherwise(0)\n",
    "record_t = record.withColumn('target', condition)\n",
    "record_t.show(3)"
   ]
  },
  {
   "cell_type": "code",
   "execution_count": 48,
   "metadata": {},
   "outputs": [
    {
     "name": "stdout",
     "output_type": "stream",
     "text": [
      "+-----------+\n",
      "|sum(target)|\n",
      "+-----------+\n",
      "|       3104|\n",
      "+-----------+\n",
      "\n"
     ]
    }
   ],
   "source": [
    "# число совпадает\n",
    "record_t.select(F.sum(F.col('target'))).show()"
   ]
  },
  {
   "cell_type": "code",
   "execution_count": 49,
   "metadata": {},
   "outputs": [
    {
     "name": "stdout",
     "output_type": "stream",
     "text": [
      "+-------+------+\n",
      "|     ID|target|\n",
      "+-------+------+\n",
      "|5001812|     0|\n",
      "|5001849|     0|\n",
      "|5001921|     0|\n",
      "+-------+------+\n",
      "only showing top 3 rows\n",
      "\n"
     ]
    },
    {
     "name": "stderr",
     "output_type": "stream",
     "text": [
      "\r",
      "[Stage 51:=============================>                            (2 + 2) / 4]\r",
      "\r",
      "                                                                                \r"
     ]
    }
   ],
   "source": [
    "cpunt = record_t.groupby('ID').sum('target').select('ID', F.when(F.col('sum(target)') > 0, 1).otherwise(0).alias('target'))\n",
    "# кол-во класса 1 также совпадает - 667\n",
    "cpunt.show(3)"
   ]
  },
  {
   "cell_type": "code",
   "execution_count": 50,
   "metadata": {},
   "outputs": [],
   "source": [
    "new_data = new_data.join(cpunt, on='ID', how='left').na.fill(0, 'target')"
   ]
  },
  {
   "cell_type": "code",
   "execution_count": 51,
   "metadata": {},
   "outputs": [
    {
     "name": "stderr",
     "output_type": "stream",
     "text": [
      "                                                                                \r"
     ]
    },
    {
     "name": "stdout",
     "output_type": "stream",
     "text": [
      "+-----------+\n",
      "|sum(target)|\n",
      "+-----------+\n",
      "|        616|\n",
      "+-----------+\n",
      "\n"
     ]
    }
   ],
   "source": [
    "new_data.select(F.sum('target')).show()"
   ]
  },
  {
   "cell_type": "code",
   "execution_count": 52,
   "metadata": {},
   "outputs": [
    {
     "data": {
      "text/plain": [
       "['ID',\n",
       " 'CODE_GENDER',\n",
       " 'FLAG_OWN_CAR',\n",
       " 'FLAG_OWN_REALTY',\n",
       " 'CNT_CHILDREN',\n",
       " 'AMT_INCOME_TOTAL',\n",
       " 'NAME_INCOME_TYPE',\n",
       " 'NAME_EDUCATION_TYPE',\n",
       " 'NAME_FAMILY_STATUS',\n",
       " 'NAME_HOUSING_TYPE',\n",
       " 'DAYS_BIRTH',\n",
       " 'DAYS_EMPLOYED',\n",
       " 'FLAG_MOBIL',\n",
       " 'FLAG_WORK_PHONE',\n",
       " 'FLAG_PHONE',\n",
       " 'FLAG_EMAIL',\n",
       " 'OCCUPATION_TYPE',\n",
       " 'CNT_FAM_MEMBERS',\n",
       " 'begin_month',\n",
       " 'target']"
      ]
     },
     "execution_count": 52,
     "metadata": {},
     "output_type": "execute_result"
    }
   ],
   "source": [
    "new_data.columns"
   ]
  },
  {
   "cell_type": "markdown",
   "metadata": {},
   "source": [
    "- предобработка и обучение модели"
   ]
  },
  {
   "cell_type": "code",
   "execution_count": 53,
   "metadata": {},
   "outputs": [
    {
     "name": "stdout",
     "output_type": "stream",
     "text": [
      "+----------------------------------------------------------------------------------+\n",
      "|text                                                                              |\n",
      "+----------------------------------------------------------------------------------+\n",
      "|Working, Higher education, Civil marriage, Rented apartment                       |\n",
      "|Working, Higher education, Civil marriage, Rented apartment                       |\n",
      "|Working, Secondary / secondary special, Married, House / apartment, Security staff|\n",
      "+----------------------------------------------------------------------------------+\n",
      "only showing top 3 rows\n",
      "\n"
     ]
    }
   ],
   "source": [
    "# новый текстовый признак\n",
    "text_feat = ['NAME_INCOME_TYPE', 'NAME_EDUCATION_TYPE', 'NAME_FAMILY_STATUS', \n",
    "             'NAME_HOUSING_TYPE', 'OCCUPATION_TYPE']\n",
    "new_data = new_data.withColumn('text', F.concat_ws(', ', *text_feat))\n",
    "df_text.select('text').show(3, truncate=False);"
   ]
  },
  {
   "cell_type": "code",
   "execution_count": 54,
   "metadata": {},
   "outputs": [
    {
     "data": {
      "text/plain": [
       "['CODE_GENDER',\n",
       " 'FLAG_OWN_CAR',\n",
       " 'FLAG_OWN_REALTY',\n",
       " 'AMT_INCOME_TOTAL',\n",
       " 'CNT_CHILDREN',\n",
       " 'text',\n",
       " 'target']"
      ]
     },
     "execution_count": 54,
     "metadata": {},
     "output_type": "execute_result"
    }
   ],
   "source": [
    "cat_features = ['CODE_GENDER', 'FLAG_OWN_CAR', 'FLAG_OWN_REALTY']  # по 2 уникальных => 1 столбец для каждого\n",
    "num_features = ['AMT_INCOME_TOTAL', 'CNT_CHILDREN']\n",
    "\n",
    "dataset = new_data.select(*cat_features, *num_features, 'text', 'target')\n",
    "dataset.columns"
   ]
  },
  {
   "cell_type": "code",
   "execution_count": 55,
   "metadata": {},
   "outputs": [],
   "source": [
    "# трейн и тест\n",
    "X_train, X_test = dataset.randomSplit([0.7, 0.3])"
   ]
  },
  {
   "cell_type": "code",
   "execution_count": 56,
   "metadata": {},
   "outputs": [],
   "source": [
    "# препроцессинг\n",
    "se = StringIndexer(inputCols=cat_features, outputCols=[col + '_se' for col in cat_features])\n",
    "tokenizer = Tokenizer(inputCol='text', outputCol='tokens')\n",
    "cv = CountVectorizer(inputCol='tokens', outputCol='vectors')\n",
    "idf = IDF(inputCol='vectors', outputCol='IDF')\n",
    "va = VectorAssembler(inputCols=se.getOutputCols() + num_features + ['IDF'], outputCol='features')\n",
    "mms = MinMaxScaler(inputCol='features', outputCol='scaled_feats')"
   ]
  },
  {
   "cell_type": "code",
   "execution_count": 57,
   "metadata": {},
   "outputs": [],
   "source": [
    "stages = [se, tokenizer, cv, idf, va, mms]\n",
    "pipe = Pipeline(stages=stages)"
   ]
  },
  {
   "cell_type": "code",
   "execution_count": 58,
   "metadata": {},
   "outputs": [
    {
     "name": "stderr",
     "output_type": "stream",
     "text": [
      "                                                                                \r"
     ]
    }
   ],
   "source": [
    "scaled_dataset = pipe.fit(X_train).transform(X_train)"
   ]
  },
  {
   "cell_type": "code",
   "execution_count": 59,
   "metadata": {},
   "outputs": [
    {
     "name": "stdout",
     "output_type": "stream",
     "text": [
      "root\n",
      " |-- CODE_GENDER: string (nullable = true)\n",
      " |-- FLAG_OWN_CAR: string (nullable = true)\n",
      " |-- FLAG_OWN_REALTY: string (nullable = true)\n",
      " |-- AMT_INCOME_TOTAL: double (nullable = true)\n",
      " |-- CNT_CHILDREN: integer (nullable = true)\n",
      " |-- text: string (nullable = false)\n",
      " |-- target: integer (nullable = true)\n",
      " |-- CODE_GENDER_se: double (nullable = false)\n",
      " |-- FLAG_OWN_CAR_se: double (nullable = false)\n",
      " |-- FLAG_OWN_REALTY_se: double (nullable = false)\n",
      " |-- tokens: array (nullable = true)\n",
      " |    |-- element: string (containsNull = true)\n",
      " |-- vectors: vector (nullable = true)\n",
      " |-- IDF: vector (nullable = true)\n",
      " |-- features: vector (nullable = true)\n",
      " |-- scaled_feats: vector (nullable = true)\n",
      "\n"
     ]
    }
   ],
   "source": [
    "scaled_dataset.printSchema()"
   ]
  },
  {
   "cell_type": "code",
   "execution_count": 60,
   "metadata": {},
   "outputs": [],
   "source": [
    "# тюнинг модели\n",
    "lr = LogisticRegression(featuresCol='scaled_feats', labelCol='target')\n",
    "\n",
    "# lr_evaluator = BinaryClassificationEvaluator(rawPredictionCol='prediction', \n",
    "#                                              labelCol='target', \n",
    "#                                              metricName='areaUnderROC')\n",
    "\n",
    "m_evaluator = MulticlassClassificationEvaluator(labelCol=\"target\", \n",
    "                                                predictionCol=\"prediction\", \n",
    "                                                metricName='accuracy')\n",
    "\n",
    "params = (ParamGridBuilder().addGrid(lr.regParam, [0.01, 0.5, 0.9, 1.2])\n",
    "                            .addGrid(lr.elasticNetParam, [0.2, 0.5, 0.7])\n",
    "                            .build()\n",
    "              )\n",
    "\n",
    "tvs = TrainValidationSplit(estimator=lr,\n",
    "                           estimatorParamMaps=params,\n",
    "                           evaluator=m_evaluator,\n",
    "#                            evaluator=lr_evaluator\n",
    "                          )"
   ]
  },
  {
   "cell_type": "code",
   "execution_count": 61,
   "metadata": {},
   "outputs": [
    {
     "name": "stderr",
     "output_type": "stream",
     "text": [
      "                                                                                \r"
     ]
    },
    {
     "data": {
      "text/plain": [
       "0.9985614897735"
      ]
     },
     "execution_count": 61,
     "metadata": {},
     "output_type": "execute_result"
    }
   ],
   "source": [
    "# лучшая accuracy\n",
    "lr_model = tvs.fit(scaled_dataset)\n",
    "max(lr_model.validationMetrics)"
   ]
  },
  {
   "cell_type": "code",
   "execution_count": 63,
   "metadata": {},
   "outputs": [
    {
     "name": "stderr",
     "output_type": "stream",
     "text": [
      "                                                                                \r"
     ]
    }
   ],
   "source": [
    "# получаем предсказание\n",
    "fitted_pipe = pipe.fit(X_train)\n",
    "train_pred = lr_model.transform(fitted_pipe.transform(X_train))\n",
    "test_pred = lr_model.transform(fitted_pipe.transform(X_test))"
   ]
  },
  {
   "cell_type": "code",
   "execution_count": 65,
   "metadata": {},
   "outputs": [
    {
     "name": "stderr",
     "output_type": "stream",
     "text": [
      "                                                                                \r"
     ]
    },
    {
     "data": {
      "text/plain": [
       "(0.9985716702673156, 0.9986509660455013)"
      ]
     },
     "execution_count": 65,
     "metadata": {},
     "output_type": "execute_result"
    }
   ],
   "source": [
    "# получаем метрики\n",
    "m_evaluator.evaluate(train_pred), m_evaluator.evaluate(test_pred)"
   ]
  },
  {
   "cell_type": "markdown",
   "metadata": {},
   "source": [
    "Метрики чуть лучше, чем со sklearn (на трейне 0.9828755045260394, на тесте 0.983635033827025)"
   ]
  },
  {
   "cell_type": "code",
   "execution_count": 66,
   "metadata": {},
   "outputs": [],
   "source": [
    "spark.stop()"
   ]
  },
  {
   "cell_type": "code",
   "execution_count": null,
   "metadata": {},
   "outputs": [],
   "source": []
  }
 ],
 "metadata": {
  "colab": {
   "provenance": []
  },
  "kernelspec": {
   "display_name": "Python 3 (ipykernel)",
   "language": "python",
   "name": "python3"
  },
  "language_info": {
   "codemirror_mode": {
    "name": "ipython",
    "version": 3
   },
   "file_extension": ".py",
   "mimetype": "text/x-python",
   "name": "python",
   "nbconvert_exporter": "python",
   "pygments_lexer": "ipython3",
   "version": "3.9.13"
  }
 },
 "nbformat": 4,
 "nbformat_minor": 1
}
